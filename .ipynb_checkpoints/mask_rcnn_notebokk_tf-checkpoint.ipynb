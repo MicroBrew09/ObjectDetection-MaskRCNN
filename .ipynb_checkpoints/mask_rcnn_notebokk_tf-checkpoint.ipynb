{
 "cells": [
  {
   "cell_type": "code",
   "execution_count": 7,
   "metadata": {},
   "outputs": [
    {
     "ename": "ModuleNotFoundError",
     "evalue": "No module named 'mrcnn'",
     "output_type": "error",
     "traceback": [
      "\u001b[0;31m---------------------------------------------------------------------------\u001b[0m",
      "\u001b[0;31mModuleNotFoundError\u001b[0m                       Traceback (most recent call last)",
      "\u001b[0;32m<ipython-input-7-094d9c64c4d6>\u001b[0m in \u001b[0;36m<module>\u001b[0;34m\u001b[0m\n\u001b[1;32m     16\u001b[0m \u001b[0;31m#Import Mask RCNN\u001b[0m\u001b[0;34m\u001b[0m\u001b[0;34m\u001b[0m\u001b[0;34m\u001b[0m\u001b[0m\n\u001b[1;32m     17\u001b[0m \u001b[0msys\u001b[0m\u001b[0;34m.\u001b[0m\u001b[0mpath\u001b[0m\u001b[0;34m.\u001b[0m\u001b[0mappend\u001b[0m\u001b[0;34m(\u001b[0m\u001b[0mROOT_DIR\u001b[0m\u001b[0;34m)\u001b[0m  \u001b[0;31m# To find local version of the library\u001b[0m\u001b[0;34m\u001b[0m\u001b[0;34m\u001b[0m\u001b[0m\n\u001b[0;32m---> 18\u001b[0;31m \u001b[0;32mfrom\u001b[0m \u001b[0mmrcnn\u001b[0m \u001b[0;32mimport\u001b[0m \u001b[0mutils\u001b[0m\u001b[0;34m\u001b[0m\u001b[0;34m\u001b[0m\u001b[0m\n\u001b[0m\u001b[1;32m     19\u001b[0m \u001b[0;32mimport\u001b[0m \u001b[0mmrcnn\u001b[0m\u001b[0;34m.\u001b[0m\u001b[0mmodel\u001b[0m \u001b[0;32mas\u001b[0m \u001b[0mmodellib\u001b[0m\u001b[0;34m\u001b[0m\u001b[0;34m\u001b[0m\u001b[0m\n\u001b[1;32m     20\u001b[0m \u001b[0;32mfrom\u001b[0m \u001b[0mmrcnn\u001b[0m \u001b[0;32mimport\u001b[0m \u001b[0mvisualize\u001b[0m\u001b[0;34m\u001b[0m\u001b[0;34m\u001b[0m\u001b[0m\n",
      "\u001b[0;31mModuleNotFoundError\u001b[0m: No module named 'mrcnn'"
     ]
    }
   ],
   "source": [
    "import os\n",
    "import sys\n",
    "import random\n",
    "import math\n",
    "import numpy as np\n",
    "import skimage.io\n",
    "import matplotlib\n",
    "import matplotlib.pyplot as plt\n",
    "\n",
    "# Root directory of the project\n",
    "ROOT_DIR = os.path.abspath(\"../\")\n",
    "\n",
    "import warnings\n",
    "warnings.filterwarnings(\"ignore\")\n",
    "\n",
    "#Import Mask RCNN\n",
    "sys.path.append(ROOT_DIR)  # To find local version of the library\n",
    "from mrcnn import utils\n",
    "import mrcnn.model as modellib\n",
    "from mrcnn import visualize\n",
    "# Import COCO config\n",
    "sys.path.append(os.path.join(ROOT_DIR, \"samples/coco/\"))  # To find local version\n",
    "import coco\n",
    "\n",
    "%matplotlib inline"
   ]
  },
  {
   "cell_type": "code",
   "execution_count": 11,
   "metadata": {},
   "outputs": [
    {
     "name": "stdout",
     "output_type": "stream",
     "text": [
      "Collecting package metadata (current_repodata.json): done\n",
      "Solving environment: done\n",
      "\n",
      "## Package Plan ##\n",
      "\n",
      "  environment location: /opt/conda/envs/maskrcnn_benchmark\n",
      "\n",
      "  added / updated specs:\n",
      "    - scikit-image\n",
      "\n",
      "\n",
      "The following NEW packages will be INSTALLED:\n",
      "\n",
      "  cloudpickle        conda-forge/noarch::cloudpickle-1.4.1-py_0\n",
      "  cycler             conda-forge/noarch::cycler-0.10.0-py_2\n",
      "  cytoolz            conda-forge/linux-64::cytoolz-0.10.1-py38h516909a_0\n",
      "  dask-core          conda-forge/noarch::dask-core-2.18.0-py_0\n",
      "  icu                conda-forge/linux-64::icu-64.2-he1b5a44_1\n",
      "  imagecodecs-lite   conda-forge/linux-64::imagecodecs-lite-2019.12.3-py38h8790de6_1\n",
      "  imageio            conda-forge/noarch::imageio-2.8.0-py_0\n",
      "  kiwisolver         conda-forge/linux-64::kiwisolver-1.2.0-py38hbf85e49_0\n",
      "  matplotlib-base    conda-forge/linux-64::matplotlib-base-3.2.1-py38h2af1d28_0\n",
      "  networkx           conda-forge/noarch::networkx-2.4-py_1\n",
      "  pywavelets         conda-forge/linux-64::pywavelets-1.1.1-py38h8790de6_1\n",
      "  scikit-image       conda-forge/linux-64::scikit-image-0.17.2-py38hcb8c335_0\n",
      "  tifffile           conda-forge/noarch::tifffile-2020.6.3-py_0\n",
      "  toolz              conda-forge/noarch::toolz-0.10.0-py_0\n",
      "\n",
      "\n",
      "Preparing transaction: done\n",
      "Verifying transaction: done\n",
      "Executing transaction: done\n",
      "\n",
      "Note: you may need to restart the kernel to use updated packages.\n"
     ]
    }
   ],
   "source": [
    "conda install scikit-image"
   ]
  },
  {
   "cell_type": "code",
   "execution_count": 6,
   "metadata": {},
   "outputs": [
    {
     "data": {
      "text/plain": [
       "['/home/jupyter/maskrcnn/data',\n",
       " '/opt/conda/envs/maskrcnn_benchmark/lib/python38.zip',\n",
       " '/opt/conda/envs/maskrcnn_benchmark/lib/python3.8',\n",
       " '/opt/conda/envs/maskrcnn_benchmark/lib/python3.8/lib-dynload',\n",
       " '',\n",
       " '/opt/conda/envs/maskrcnn_benchmark/lib/python3.8/site-packages',\n",
       " '/opt/conda/envs/maskrcnn_benchmark/lib/python3.8/site-packages/pycocotools-2.0-py3.8-linux-x86_64.egg',\n",
       " '/opt/conda/envs/maskrcnn_benchmark/lib/python3.8/site-packages/cityscapesScripts-1.5.0-py3.8.egg',\n",
       " '/opt/conda/envs/maskrcnn_benchmark/lib/python3.8/site-packages/appdirs-1.4.4-py3.8.egg',\n",
       " '/opt/conda/envs/maskrcnn_benchmark/lib/python3.8/site-packages/Pillow-7.1.2-py3.8-linux-x86_64.egg',\n",
       " '/opt/conda/envs/maskrcnn_benchmark/lib/python3.8/site-packages/apex-0.1-py3.8-linux-x86_64.egg',\n",
       " '/home/jupyter/maskrcnn/maskrcnn-benchmark',\n",
       " '/opt/conda/envs/maskrcnn_benchmark/lib/python3.8/site-packages/IPython/extensions',\n",
       " '/home/jupyter/.ipython']"
      ]
     },
     "execution_count": 6,
     "metadata": {},
     "output_type": "execute_result"
    }
   ],
   "source": []
  },
  {
   "cell_type": "code",
   "execution_count": 4,
   "metadata": {},
   "outputs": [
    {
     "ename": "NameError",
     "evalue": "name 'sys' is not defined",
     "output_type": "error",
     "traceback": [
      "\u001b[0;31m---------------------------------------------------------------------------\u001b[0m",
      "\u001b[0;31mNameError\u001b[0m                                 Traceback (most recent call last)",
      "\u001b[0;32m<ipython-input-4-b35d1d099a2a>\u001b[0m in \u001b[0;36m<module>\u001b[0;34m\u001b[0m\n\u001b[0;32m----> 1\u001b[0;31m \u001b[0msys\u001b[0m\u001b[0;34m.\u001b[0m\u001b[0mpath\u001b[0m\u001b[0;34m\u001b[0m\u001b[0;34m\u001b[0m\u001b[0m\n\u001b[0m",
      "\u001b[0;31mNameError\u001b[0m: name 'sys' is not defined"
     ]
    }
   ],
   "source": [
    "sys.path"
   ]
  },
  {
   "cell_type": "code",
   "execution_count": null,
   "metadata": {},
   "outputs": [],
   "source": []
  }
 ],
 "metadata": {
  "kernelspec": {
   "display_name": "Python [conda env:maskrcnn_benchmark]",
   "language": "python",
   "name": "conda-env-maskrcnn_benchmark-py"
  },
  "language_info": {
   "codemirror_mode": {
    "name": "ipython",
    "version": 3
   },
   "file_extension": ".py",
   "mimetype": "text/x-python",
   "name": "python",
   "nbconvert_exporter": "python",
   "pygments_lexer": "ipython3",
   "version": "3.8.3"
  }
 },
 "nbformat": 4,
 "nbformat_minor": 4
}
